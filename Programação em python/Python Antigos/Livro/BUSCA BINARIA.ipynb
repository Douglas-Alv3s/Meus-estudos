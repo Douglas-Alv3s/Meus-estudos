{
 "cells": [
  {
   "cell_type": "code",
   "execution_count": null,
   "metadata": {},
   "outputs": [],
   "source": [
    "\n",
    "def BuscaBinaria (lista, item, inicio, fim):\n",
    "    if inicio < fim:\n",
    "        meio = (inicio + fim)//2\n",
    "        if item == lista[meio]:\n",
    "            return print(f'...Item encontrado na posição {[meio]}...')\n",
    "        else:\n",
    "            if item < lista[meio]:\n",
    "                return BuscaBinaria(lista, item, inicio, meio-1)\n",
    "            elif item > lista[meio]:\n",
    "                return BuscaBinaria (lista, item, meio+1, fim)\n",
    "    \n",
    "    return 'Valor não existe não lista.'\n",
    "\n",
    "lista = [1,2,3,5,6,8, 25, 57, 86, 124]\n",
    "inicio = 0\n",
    "fim = len(lista)-1\n",
    "item = 8\n",
    "\n",
    "\n",
    "BuscaBinaria(lista, item, inicio, fim)"
   ]
  }
 ],
 "metadata": {
  "language_info": {
   "name": "python"
  },
  "orig_nbformat": 4
 },
 "nbformat": 4,
 "nbformat_minor": 2
}
