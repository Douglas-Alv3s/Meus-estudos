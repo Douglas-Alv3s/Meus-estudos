{
 "cells": [
  {
   "cell_type": "code",
   "execution_count": 161,
   "metadata": {},
   "outputs": [],
   "source": [
    "class Pessoas:\n",
    "\n",
    "    def __init__(self):\n",
    "        self.pessoas = []\n",
    "        self.informações = [None]*4 \n",
    "        self.Nome = None\n",
    "        self.Idade = None\n",
    "        self.Profissão = None\n",
    "        self.Endereço = None\n",
    "    \n",
    "    def Dados(self):\n",
    "        self.Nome = str(input('NOME: '))\n",
    "        self.Idade = int(input('IDADE: '))\n",
    "        self.Profissão = str(input('Profissão: '))\n",
    "        self.Endereço = str(input('ENDEREÇO: '))\n",
    "\n",
    "    def InserirDados (self):\n",
    "        self.informações[0] = (self.Nome)\n",
    "        self.informações[1] = (self.Idade)\n",
    "        self.informações[2] = (self.Profissão)\n",
    "        self.informações[3] = (self.Endereço)\n",
    "        if None not in self.informações and '' not in self.informações:\n",
    "            self.pessoas.append(self.informações)\n",
    "            print('Dados Inseridos')\n",
    "            print('---')\n",
    "            # print(self.informações)\n",
    "            # self.LimparDados()\n",
    "        else:\n",
    "            print('Não foi preenchido todos os dados / Dados não Inseridos')\n",
    "            self.LimparDados()\n",
    "\n",
    "    def LimparDados(self):\n",
    "        self.informações.clear()\n",
    "        self.informações = [None]*4 \n",
    "\n",
    "    \n",
    "    \n",
    "    def Mostrar_Informações (self):\n",
    "        print(f'Nome: {self.informações[0]}\\nIdade: {self.informações[1]}\\nProfissão: {self.informações[2]}\\nEndereço: {self.informações[3]}')"
   ]
  },
  {
   "cell_type": "code",
   "execution_count": null,
   "metadata": {},
   "outputs": [],
   "source": [
    "pessoa = Pessoas()\n",
    "\n",
    "pessoa.Dados()\n",
    "pessoa.InserirDados()\n",
    "pessoa.Mostrar_Informações()\n",
    "\n"
   ]
  },
  {
   "cell_type": "code",
   "execution_count": null,
   "metadata": {},
   "outputs": [
    {
     "name": "stdout",
     "output_type": "stream",
     "text": [
      "Dados Inseridos\n",
      "---\n",
      "Nome: Douglas\n",
      "Idade: 14\n",
      "Profissão: Amem\n",
      "Endereço: Rua y\n"
     ]
    }
   ],
   "source": [
    "pessoa.LimparDados()\n",
    "\n",
    "pessoa.InserirDados()\n",
    "pessoa.Mostrar_Informações()"
   ]
  },
  {
   "cell_type": "code",
   "execution_count": 302,
   "metadata": {},
   "outputs": [],
   "source": [
    "class Produto():\n",
    "    \n",
    "    def __init__(self, nome, marca, preço, q_estoque):\n",
    "        self.nome = nome\n",
    "        self.marca = marca\n",
    "        self.preço = preço\n",
    "        self.q_estoque = q_estoque\n",
    "        self.vendas = 0\n",
    "        self.total = 0\n",
    "\n",
    "    # def EstoqueVazio(self): \n",
    "    #     return self.q_estoque == 0\n",
    "\n",
    "\n",
    "    def vender(self, dinheiro, quantia):\n",
    "        if (self.q_estoque - quantia) >= 0:\n",
    "            self.preço_q = self.preço*quantia\n",
    "            # total_v = 0\n",
    "            if quantia <= 0:\n",
    "                print('Nenhum item selecionado') \n",
    "            elif self.preço_q <= dinheiro:\n",
    "                print(f'Compra realizada de {quantia} item(ns) do produto {self.nome} da marca {self.marca}.')\n",
    "                self.q_estoque = self.q_estoque - quantia\n",
    "                self.vendas += quantia\n",
    "                self.total += self.preço*quantia\n",
    "            else:\n",
    "                dinheiro = dinheiro - self.preço_q\n",
    "                print(f'Dinheiro insuficiente. Falta R${dinheiro}')\n",
    "        else:\n",
    "            print(f'Tem apenas {self.q_estoque} item(ns) disponíveis no estoque. Não é possível comprar o produto')\n",
    "\n",
    "\n",
    "    def AdicionarEstoque(self, quantidade):\n",
    "        if quantidade > 0:\n",
    "            self.q_estoque = quantidade + self.q_estoque\n",
    "            print(f'Adicionado {quantidade} item(ns) ao estoque.\\nEstoque: {self.q_estoque}')\n",
    "\n",
    "\n",
    "    def Log_vendas (self):\n",
    "        print(f'Vendas Realizadas: {self.vendas}\\nValor apurado: {self.total}\\nItens no estoque: {self.q_estoque}')"
   ]
  },
  {
   "cell_type": "code",
   "execution_count": 303,
   "metadata": {},
   "outputs": [
    {
     "name": "stdout",
     "output_type": "stream",
     "text": [
      "Compra realizada de 1 item(ns) do produto Tenis da marca NIKE.\n"
     ]
    }
   ],
   "source": [
    "produto = Produto('Tenis', 'NIKE', 50.00, 2)\n",
    "\n",
    "produto.vender(550.00, 1)\n"
   ]
  },
  {
   "cell_type": "code",
   "execution_count": 304,
   "metadata": {},
   "outputs": [
    {
     "name": "stdout",
     "output_type": "stream",
     "text": [
      "Compra realizada de 1 item(ns) do produto Tenis da marca NIKE.\n",
      "Adicionado 2 item(ns) ao estoque.\n",
      "Estoque: 2\n",
      "Compra realizada de 1 item(ns) do produto Tenis da marca NIKE.\n"
     ]
    }
   ],
   "source": [
    "\n",
    "produto.vender(450.00, 1)\n",
    "produto.AdicionarEstoque(2)\n",
    "produto.vender(450.00, 1)\n"
   ]
  },
  {
   "cell_type": "code",
   "execution_count": 305,
   "metadata": {},
   "outputs": [
    {
     "name": "stdout",
     "output_type": "stream",
     "text": [
      "Vendas Realizadas: 3\n",
      "Valor apurado: 150.0\n",
      "Itens no estoque: 1\n"
     ]
    }
   ],
   "source": [
    "produto.Log_vendas()"
   ]
  }
 ],
 "metadata": {
  "kernelspec": {
   "display_name": "Python 3.10.4 64-bit",
   "language": "python",
   "name": "python3"
  },
  "language_info": {
   "codemirror_mode": {
    "name": "ipython",
    "version": 3
   },
   "file_extension": ".py",
   "mimetype": "text/x-python",
   "name": "python",
   "nbconvert_exporter": "python",
   "pygments_lexer": "ipython3",
   "version": "3.10.4"
  },
  "orig_nbformat": 4,
  "vscode": {
   "interpreter": {
    "hash": "b3c3866460f26b6d0e65c050578253cfd3d4b5b8d53533ca2ecb289b3cd5e1ee"
   }
  }
 },
 "nbformat": 4,
 "nbformat_minor": 2
}
