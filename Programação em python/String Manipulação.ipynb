{
 "cells": [
  {
   "cell_type": "code",
   "execution_count": 4,
   "metadata": {},
   "outputs": [
    {
     "name": "stdout",
     "output_type": "stream",
     "text": [
      "<class 'str'>\n"
     ]
    }
   ],
   "source": [
    "nome = 'douglas'\n",
    "print(type(nome))"
   ]
  },
  {
   "cell_type": "code",
   "execution_count": 5,
   "metadata": {},
   "outputs": [
    {
     "name": "stdout",
     "output_type": "stream",
     "text": [
      "douglasdouglasdouglas\n"
     ]
    }
   ],
   "source": [
    "nome = 'douglas'\n",
    "print(nome*3)"
   ]
  },
  {
   "cell_type": "code",
   "execution_count": 6,
   "metadata": {},
   "outputs": [
    {
     "name": "stdout",
     "output_type": "stream",
     "text": [
      "Douglas\n"
     ]
    }
   ],
   "source": [
    "# Primeira Letra maiuscula \n",
    "\n",
    "nome = 'douglas'\n",
    "nome_letra_maiuscula = nome.capitalize()\n",
    "print(nome_letra_maiuscula)"
   ]
  },
  {
   "cell_type": "code",
   "execution_count": 7,
   "metadata": {},
   "outputs": [
    {
     "name": "stdout",
     "output_type": "stream",
     "text": [
      "DOUGLAS\n"
     ]
    }
   ],
   "source": [
    "# Todas as letras em maiúsculas#\n",
    "\n",
    "nome = 'douglas'\n",
    "nome_maiuscula = nome.upper()\n",
    "print(nome_maiuscula) \n",
    " "
   ]
  },
  {
   "cell_type": "code",
   "execution_count": 8,
   "metadata": {},
   "outputs": [
    {
     "name": "stdout",
     "output_type": "stream",
     "text": [
      "douglas\n"
     ]
    }
   ],
   "source": [
    "# Todas as letras em minusculo 1º Metodo\n",
    "\n",
    "\n",
    "nome_minusculo = nome_maiuscula.casefold()\n",
    "print(nome_minusculo)"
   ]
  },
  {
   "cell_type": "code",
   "execution_count": 9,
   "metadata": {},
   "outputs": [
    {
     "name": "stdout",
     "output_type": "stream",
     "text": [
      "douglas\n"
     ]
    }
   ],
   "source": [
    "# Todas as letras em minusculo 2º Metodo\n",
    "\n",
    "nome_minusculoo = nome_maiuscula.lower()\n",
    "print(nome_minusculoo)"
   ]
  },
  {
   "cell_type": "code",
   "execution_count": 29,
   "metadata": {},
   "outputs": [
    {
     "name": "stdout",
     "output_type": "stream",
     "text": [
      "Douglxs\n",
      "Douglxs xlves\n"
     ]
    }
   ],
   "source": [
    "# Substituir característica por outro caractere\n",
    "\n",
    "nome = 'Douglas'\n",
    "novo_nome = nome.replace('a', 'x')\n",
    "print(novo_nome)\n",
    "\n",
    "nome = 'Douglas alves'\n",
    "novo_nome = nome.replace('a', 'x', 2)\n",
    "print(novo_nome)\n"
   ]
  },
  {
   "cell_type": "code",
   "execution_count": 17,
   "metadata": {},
   "outputs": [
    {
     "name": "stdout",
     "output_type": "stream",
     "text": [
      "Douglas Alves\n"
     ]
    }
   ],
   "source": [
    "# União de strings\n",
    "\n",
    "nome = 'Douglas'\n",
    "sobrenome = 'Alves'\n",
    "\n",
    "nome_completo = nome+' '+sobrenome\n",
    "print(nome_completo)"
   ]
  },
  {
   "cell_type": "code",
   "execution_count": 20,
   "metadata": {},
   "outputs": [
    {
     "name": "stdout",
     "output_type": "stream",
     "text": [
      "True\n",
      "True\n",
      "True\n"
     ]
    }
   ],
   "source": [
    "# Verificar se a string e totalmente numérica\n",
    "\n",
    "cpf = '1112223334'\n",
    "print(cpf.isnumeric())\n",
    "\n",
    "# Verificar se string é totalmente alfabética\n",
    "alfabética = 'Amendoim'\n",
    "print(alfabética.isalpha())\n",
    "\n",
    "# Verifica se a string é numérica e alfabética\n",
    "\n",
    "alfNum = '123bcd456'\n",
    "print(alfNum.isalnum())"
   ]
  },
  {
   "cell_type": "code",
   "execution_count": 23,
   "metadata": {},
   "outputs": [
    {
     "name": "stdout",
     "output_type": "stream",
     "text": [
      "4\n"
     ]
    }
   ],
   "source": [
    "# Procura um caractere especifico e da sua posição\n",
    "\n",
    "nome = 'Douglas Alves'\n",
    "print(nome.find('l'))"
   ]
  },
  {
   "cell_type": "code",
   "execution_count": 30,
   "metadata": {},
   "outputs": [
    {
     "name": "stdout",
     "output_type": "stream",
     "text": [
      "['Soldado', 'Combatente']\n"
     ]
    }
   ],
   "source": [
    "# Transforma uma string em lista\n",
    "\n",
    "nome = 'Soldado Combatente'\n",
    "print(nome.split())"
   ]
  },
  {
   "cell_type": "code",
   "execution_count": 31,
   "metadata": {},
   "outputs": [
    {
     "name": "stdout",
     "output_type": "stream",
     "text": [
      "falipe.dasdad@hmal.com\n",
      "ana.affas.asd@jmal.com\n",
      "genifvca.askd@gmal.com\n",
      "jopse.lfs@hjts.com\n"
     ]
    }
   ],
   "source": [
    "# Pegar arquivo txt, fazer a leitura e transformar em uma lista.\n",
    "\n",
    "import io \n",
    "\n",
    "with io.open('Textos.txt', 'r') as t:\n",
    "    texto = t.read()\n",
    "\n",
    "print(texto)"
   ]
  },
  {
   "cell_type": "code",
   "execution_count": 32,
   "metadata": {},
   "outputs": [
    {
     "name": "stdout",
     "output_type": "stream",
     "text": [
      "['falipe.dasdad@hmal.com\\n', 'ana.affas.asd@jmal.com\\n', 'genifvca.askd@gmal.com\\n', 'jopse.lfs@hjts.com']\n"
     ]
    }
   ],
   "source": [
    "# Ler o arquivo txt por linha\n",
    "\n",
    "with io.open('Textos.txt', 'r') as t:\n",
    "    linhas = t.readlines()\n",
    "\n",
    "print(linhas)"
   ]
  },
  {
   "cell_type": "code",
   "execution_count": 33,
   "metadata": {},
   "outputs": [
    {
     "name": "stdout",
     "output_type": "stream",
     "text": [
      "['falipe.dasdad@hmal.com', 'ana.affas.asd@jmal.com', 'genifvca.askd@gmal.com', 'jopse.lfs@hjts.com']\n"
     ]
    }
   ],
   "source": [
    "# ler o arquivo txt por linha, transformando em uma lista.\n",
    "\n",
    "with io.open('Textos.txt', 'r') as t:\n",
    "    texto = t.read()\n",
    "\n",
    "emails = texto.split('\\n')\n",
    "print(emails)"
   ]
  },
  {
   "cell_type": "code",
   "execution_count": 34,
   "metadata": {},
   "outputs": [
    {
     "name": "stdout",
     "output_type": "stream",
     "text": [
      "falipe.dasdad@hmal.com\n"
     ]
    }
   ],
   "source": [
    "print(emails[0])"
   ]
  },
  {
   "cell_type": "code",
   "execution_count": 35,
   "metadata": {},
   "outputs": [
    {
     "name": "stdout",
     "output_type": "stream",
     "text": [
      "13\n"
     ]
    }
   ],
   "source": [
    "posição = emails[0].find('@')\n",
    "print(posição)"
   ]
  },
  {
   "cell_type": "code",
   "execution_count": 36,
   "metadata": {},
   "outputs": [
    {
     "name": "stdout",
     "output_type": "stream",
     "text": [
      "falipe.dasdad\n"
     ]
    }
   ],
   "source": [
    "print(emails[0][:posição])"
   ]
  }
 ],
 "metadata": {
  "kernelspec": {
   "display_name": "Python 3.10.4 64-bit",
   "language": "python",
   "name": "python3"
  },
  "language_info": {
   "codemirror_mode": {
    "name": "ipython",
    "version": 3
   },
   "file_extension": ".py",
   "mimetype": "text/x-python",
   "name": "python",
   "nbconvert_exporter": "python",
   "pygments_lexer": "ipython3",
   "version": "3.10.5"
  },
  "orig_nbformat": 4,
  "vscode": {
   "interpreter": {
    "hash": "b3c3866460f26b6d0e65c050578253cfd3d4b5b8d53533ca2ecb289b3cd5e1ee"
   }
  }
 },
 "nbformat": 4,
 "nbformat_minor": 2
}
